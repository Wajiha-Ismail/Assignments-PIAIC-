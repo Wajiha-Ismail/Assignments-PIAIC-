{
 "cells": [
  {
   "cell_type": "markdown",
   "metadata": {},
   "source": [
    "# ToDoList"
   ]
  },
  {
   "cell_type": "code",
   "execution_count": 3,
   "metadata": {
    "scrolled": true
   },
   "outputs": [
    {
     "name": "stdout",
     "output_type": "stream",
     "text": [
      "enter your task: school\n",
      "task left: ['breakfast', 'lunch', 'nap', 'homework', 'play', 'dinner', 'sleep']\n",
      "task completed: ['school']\n"
     ]
    }
   ],
   "source": [
    "todolist = [\"breakfast\", \"school\", \"lunch\", \"nap\", \"homework\", \"play\", \"dinner\", \"sleep\"]\n",
    "tasks = []\n",
    "selectyourtask = input(\"enter your task: \")\n",
    "if len(todolist)==0:\n",
    "    print(\"list is empty!\")\n",
    "elif selectyourtask in todolist:\n",
    "    inserttask = todolist.index(selectyourtask)\n",
    "    todolist.pop(inserttask)\n",
    "    tasks.append(selectyourtask)\n",
    "    print(f\"task left: {todolist}\")\n",
    "    print(f\"task completed: {tasks}\")\n",
    "else:\n",
    "    print(\"Error! this task is not in the list.\")"
   ]
  }
 ],
 "metadata": {
  "kernelspec": {
   "display_name": "Python 3",
   "language": "python",
   "name": "python3"
  },
  "language_info": {
   "codemirror_mode": {
    "name": "ipython",
    "version": 3
   },
   "file_extension": ".py",
   "mimetype": "text/x-python",
   "name": "python",
   "nbconvert_exporter": "python",
   "pygments_lexer": "ipython3",
   "version": "3.7.3"
  }
 },
 "nbformat": 4,
 "nbformat_minor": 2
}
